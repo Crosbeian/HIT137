{
 "cells": [
  {
   "cell_type": "code",
   "execution_count": 1,
   "id": "33cb5e9b-37ef-4734-82f2-702b2b6a6a23",
   "metadata": {},
   "outputs": [],
   "source": [
    "import pandas as pd\n",
    "import glob"
   ]
  },
  {
   "cell_type": "code",
   "execution_count": 2,
   "id": "1667e8ee-f401-42e2-9f0e-6ae5baadb117",
   "metadata": {},
   "outputs": [],
   "source": [
    "all_dfs = []"
   ]
  },
  {
   "cell_type": "code",
   "execution_count": 3,
   "id": "9afa7073-480b-4523-b22c-b9d5a0b48700",
   "metadata": {},
   "outputs": [],
   "source": [
    "for file in glob.glob('/Users/karanthapa/Desktop/temperatures/*.csv'):  # glob.glob('folderpath/*.csv')  ## finds all the csv files in the temperature folder\n",
    "    new_df = pd.read_csv(file)  # read each csv files into the dataframe\n",
    "    all_dfs.append(new_df)  # add each dataframe to the all_dfs list"
   ]
  },
  {
   "cell_type": "code",
   "execution_count": 4,
   "id": "8bc2b6e7-d8d9-4d7d-928f-bfe9aff70313",
   "metadata": {},
   "outputs": [
    {
     "data": {
      "text/html": [
       "<div>\n",
       "<style scoped>\n",
       "    .dataframe tbody tr th:only-of-type {\n",
       "        vertical-align: middle;\n",
       "    }\n",
       "\n",
       "    .dataframe tbody tr th {\n",
       "        vertical-align: top;\n",
       "    }\n",
       "\n",
       "    .dataframe thead th {\n",
       "        text-align: right;\n",
       "    }\n",
       "</style>\n",
       "<table border=\"1\" class=\"dataframe\">\n",
       "  <thead>\n",
       "    <tr style=\"text-align: right;\">\n",
       "      <th></th>\n",
       "      <th>STATION_NAME</th>\n",
       "      <th>STN_ID</th>\n",
       "      <th>LAT</th>\n",
       "      <th>LON</th>\n",
       "      <th>January</th>\n",
       "      <th>February</th>\n",
       "      <th>March</th>\n",
       "      <th>April</th>\n",
       "      <th>May</th>\n",
       "      <th>June</th>\n",
       "      <th>July</th>\n",
       "      <th>August</th>\n",
       "      <th>September</th>\n",
       "      <th>October</th>\n",
       "      <th>November</th>\n",
       "      <th>December</th>\n",
       "    </tr>\n",
       "  </thead>\n",
       "  <tbody>\n",
       "    <tr>\n",
       "      <th>0</th>\n",
       "      <td>ADELAIDE-KENT-TOWN</td>\n",
       "      <td>23090</td>\n",
       "      <td>-34.92</td>\n",
       "      <td>138.62</td>\n",
       "      <td>30.04</td>\n",
       "      <td>29.68</td>\n",
       "      <td>26.92</td>\n",
       "      <td>24.07</td>\n",
       "      <td>19.83</td>\n",
       "      <td>16.63</td>\n",
       "      <td>16.20</td>\n",
       "      <td>17.31</td>\n",
       "      <td>20.01</td>\n",
       "      <td>22.73</td>\n",
       "      <td>25.54</td>\n",
       "      <td>27.97</td>\n",
       "    </tr>\n",
       "    <tr>\n",
       "      <th>1</th>\n",
       "      <td>ALBANY-AIRPORT-COMPARISON</td>\n",
       "      <td>9741</td>\n",
       "      <td>-34.94</td>\n",
       "      <td>117.80</td>\n",
       "      <td>25.55</td>\n",
       "      <td>26.91</td>\n",
       "      <td>26.09</td>\n",
       "      <td>24.41</td>\n",
       "      <td>20.68</td>\n",
       "      <td>18.74</td>\n",
       "      <td>17.22</td>\n",
       "      <td>17.82</td>\n",
       "      <td>19.45</td>\n",
       "      <td>20.41</td>\n",
       "      <td>22.36</td>\n",
       "      <td>24.48</td>\n",
       "    </tr>\n",
       "    <tr>\n",
       "      <th>2</th>\n",
       "      <td>ALICE-SPRINGS-AIRPORT</td>\n",
       "      <td>15590</td>\n",
       "      <td>-23.80</td>\n",
       "      <td>133.89</td>\n",
       "      <td>39.04</td>\n",
       "      <td>38.58</td>\n",
       "      <td>35.31</td>\n",
       "      <td>30.35</td>\n",
       "      <td>25.28</td>\n",
       "      <td>21.89</td>\n",
       "      <td>21.45</td>\n",
       "      <td>25.95</td>\n",
       "      <td>32.31</td>\n",
       "      <td>34.02</td>\n",
       "      <td>36.62</td>\n",
       "      <td>38.15</td>\n",
       "    </tr>\n",
       "  </tbody>\n",
       "</table>\n",
       "</div>"
      ],
      "text/plain": [
       "                STATION_NAME  STN_ID    LAT     LON  January  February  March  \\\n",
       "0         ADELAIDE-KENT-TOWN   23090 -34.92  138.62    30.04     29.68  26.92   \n",
       "1  ALBANY-AIRPORT-COMPARISON    9741 -34.94  117.80    25.55     26.91  26.09   \n",
       "2      ALICE-SPRINGS-AIRPORT   15590 -23.80  133.89    39.04     38.58  35.31   \n",
       "\n",
       "   April    May   June   July  August  September  October  November  December  \n",
       "0  24.07  19.83  16.63  16.20   17.31      20.01    22.73     25.54     27.97  \n",
       "1  24.41  20.68  18.74  17.22   17.82      19.45    20.41     22.36     24.48  \n",
       "2  30.35  25.28  21.89  21.45   25.95      32.31    34.02     36.62     38.15  "
      ]
     },
     "execution_count": 4,
     "metadata": {},
     "output_type": "execute_result"
    }
   ],
   "source": [
    "dataset = pd.concat(all_dfs, ignore_index=True)  # combines all the csv files by removing the repated columns name \n",
    "dataset.head(3) "
   ]
  },
  {
   "cell_type": "code",
   "execution_count": 5,
   "id": "ca531b75-a024-4ae7-a835-656efaa9aa52",
   "metadata": {},
   "outputs": [],
   "source": [
    "range_dataset = dataset.copy()           # creating copy of original dataset to store range value\n",
    "std_dataset = dataset.copy()             # creating copy of original dataset to store standard deviation value"
   ]
  },
  {
   "cell_type": "code",
   "execution_count": null,
   "id": "76d825c4-9dc5-4287-bbdd-b04894e0819c",
   "metadata": {},
   "outputs": [],
   "source": [
    "# Seasonal Average"
   ]
  },
  {
   "cell_type": "markdown",
   "id": "168c6587-4279-4e1a-b974-f8132ff3d66e",
   "metadata": {},
   "source": [
    "<!-- seasonal average -->"
   ]
  },
  {
   "cell_type": "code",
   "execution_count": 6,
   "id": "8e363515-efba-46de-a3d1-0263924146c8",
   "metadata": {},
   "outputs": [
    {
     "name": "stdout",
     "output_type": "stream",
     "text": [
      "Summer: 32.1 °C\n"
     ]
    }
   ],
   "source": [
    "Summer = dataset[['December', 'January', 'February']].mean().mean()\n",
    "print('Summer:',round(Summer,1),'°C')"
   ]
  },
  {
   "cell_type": "code",
   "execution_count": 7,
   "id": "474491bf-3ca6-43f9-9e0c-31d51db932fc",
   "metadata": {},
   "outputs": [
    {
     "name": "stdout",
     "output_type": "stream",
     "text": [
      "Autumn: 27.3 °C\n"
     ]
    }
   ],
   "source": [
    "Autumn = dataset[['March', 'April', 'May']].mean().mean()\n",
    "print('Autumn:',round(Autumn,1),'°C')"
   ]
  },
  {
   "cell_type": "code",
   "execution_count": 8,
   "id": "74d57b41-7094-40fc-9b40-7d4514781e1d",
   "metadata": {},
   "outputs": [
    {
     "name": "stdout",
     "output_type": "stream",
     "text": [
      "Winter: 21.1 °C\n"
     ]
    }
   ],
   "source": [
    "Winter = dataset[['June', 'July', 'August']].mean().mean()\n",
    "print('Winter:',round(Winter,1),'°C')"
   ]
  },
  {
   "cell_type": "code",
   "execution_count": 9,
   "id": "02a858d3-4d91-4127-b8cc-64938bbbc4c9",
   "metadata": {},
   "outputs": [
    {
     "name": "stdout",
     "output_type": "stream",
     "text": [
      "Spring: 27.4 °C\n"
     ]
    }
   ],
   "source": [
    "Spring = dataset[['September', 'October', 'November']].mean().mean()\n",
    "print('Spring:',round(Spring,1),'°C')"
   ]
  },
  {
   "cell_type": "code",
   "execution_count": 10,
   "id": "2b519b31-6e6e-4436-982c-c86157bda815",
   "metadata": {},
   "outputs": [],
   "source": [
    "average_temp = (\n",
    "    f\"Summer: {round(Summer,1)}°C  \"\n",
    "    f\"Autumn: {round(Autumn,1)}°C  \"\n",
    "    f\"Winter: {round(Winter,1)}°C  \"\n",
    "    f\"Spring: {round(Spring,1)}°C\"\n",
    ")"
   ]
  },
  {
   "cell_type": "code",
   "execution_count": 11,
   "id": "0d26accc-efd8-4637-a94d-6ca31084327a",
   "metadata": {},
   "outputs": [],
   "source": [
    "with open('/Users/karanthapa/Desktop/average_temp.txt', 'w') as f:      #with open('/filepath/average_temp.txt', 'w') as f:\n",
    "    f.write(average_temp)"
   ]
  },
  {
   "cell_type": "code",
   "execution_count": 12,
   "id": "9ed0cc58-8779-4a15-848a-09f58824b086",
   "metadata": {},
   "outputs": [],
   "source": [
    "# Temperature Range"
   ]
  },
  {
   "cell_type": "code",
   "execution_count": 13,
   "id": "28a6f655-c6db-4aef-89fd-dfc04dc3cabe",
   "metadata": {},
   "outputs": [
    {
     "data": {
      "text/html": [
       "<div>\n",
       "<style scoped>\n",
       "    .dataframe tbody tr th:only-of-type {\n",
       "        vertical-align: middle;\n",
       "    }\n",
       "\n",
       "    .dataframe tbody tr th {\n",
       "        vertical-align: top;\n",
       "    }\n",
       "\n",
       "    .dataframe thead th {\n",
       "        text-align: right;\n",
       "    }\n",
       "</style>\n",
       "<table border=\"1\" class=\"dataframe\">\n",
       "  <thead>\n",
       "    <tr style=\"text-align: right;\">\n",
       "      <th></th>\n",
       "      <th>January</th>\n",
       "      <th>February</th>\n",
       "      <th>March</th>\n",
       "      <th>April</th>\n",
       "      <th>May</th>\n",
       "      <th>June</th>\n",
       "      <th>July</th>\n",
       "      <th>August</th>\n",
       "      <th>September</th>\n",
       "      <th>October</th>\n",
       "      <th>November</th>\n",
       "      <th>December</th>\n",
       "    </tr>\n",
       "  </thead>\n",
       "  <tbody>\n",
       "    <tr>\n",
       "      <th>0</th>\n",
       "      <td>30.04</td>\n",
       "      <td>29.68</td>\n",
       "      <td>26.92</td>\n",
       "      <td>24.07</td>\n",
       "      <td>19.83</td>\n",
       "      <td>16.63</td>\n",
       "      <td>16.20</td>\n",
       "      <td>17.31</td>\n",
       "      <td>20.01</td>\n",
       "      <td>22.73</td>\n",
       "      <td>25.54</td>\n",
       "      <td>27.97</td>\n",
       "    </tr>\n",
       "    <tr>\n",
       "      <th>1</th>\n",
       "      <td>25.55</td>\n",
       "      <td>26.91</td>\n",
       "      <td>26.09</td>\n",
       "      <td>24.41</td>\n",
       "      <td>20.68</td>\n",
       "      <td>18.74</td>\n",
       "      <td>17.22</td>\n",
       "      <td>17.82</td>\n",
       "      <td>19.45</td>\n",
       "      <td>20.41</td>\n",
       "      <td>22.36</td>\n",
       "      <td>24.48</td>\n",
       "    </tr>\n",
       "    <tr>\n",
       "      <th>2</th>\n",
       "      <td>39.04</td>\n",
       "      <td>38.58</td>\n",
       "      <td>35.31</td>\n",
       "      <td>30.35</td>\n",
       "      <td>25.28</td>\n",
       "      <td>21.89</td>\n",
       "      <td>21.45</td>\n",
       "      <td>25.95</td>\n",
       "      <td>32.31</td>\n",
       "      <td>34.02</td>\n",
       "      <td>36.62</td>\n",
       "      <td>38.15</td>\n",
       "    </tr>\n",
       "  </tbody>\n",
       "</table>\n",
       "</div>"
      ],
      "text/plain": [
       "   January  February  March  April    May   June   July  August  September  \\\n",
       "0    30.04     29.68  26.92  24.07  19.83  16.63  16.20   17.31      20.01   \n",
       "1    25.55     26.91  26.09  24.41  20.68  18.74  17.22   17.82      19.45   \n",
       "2    39.04     38.58  35.31  30.35  25.28  21.89  21.45   25.95      32.31   \n",
       "\n",
       "   October  November  December  \n",
       "0    22.73     25.54     27.97  \n",
       "1    20.41     22.36     24.48  \n",
       "2    34.02     36.62     38.15  "
      ]
     },
     "execution_count": 13,
     "metadata": {},
     "output_type": "execute_result"
    }
   ],
   "source": [
    "range_dataset.iloc[:, 4:].head(3)  # select all the row but only the columns starting from the indexing 4 onwards"
   ]
  },
  {
   "cell_type": "code",
   "execution_count": 14,
   "id": "1c83e3c7-758c-4543-b731-bd54d544ed15",
   "metadata": {},
   "outputs": [],
   "source": [
    "max_value = range_dataset.iloc[:, 4:].max(axis=1)    # when axis = 1, finds the max value row wise\n",
    "min_value = range_dataset.iloc[:, 4:].min(axis=1)\n",
    "range = max_value - min_value\n",
    "range_dataset['Range'] = range   # add Range columns in range_dataset"
   ]
  },
  {
   "cell_type": "code",
   "execution_count": 15,
   "id": "494c8e6d-e543-4bf4-8dc7-516426c699cb",
   "metadata": {},
   "outputs": [
    {
     "data": {
      "text/html": [
       "<div>\n",
       "<style scoped>\n",
       "    .dataframe tbody tr th:only-of-type {\n",
       "        vertical-align: middle;\n",
       "    }\n",
       "\n",
       "    .dataframe tbody tr th {\n",
       "        vertical-align: top;\n",
       "    }\n",
       "\n",
       "    .dataframe thead th {\n",
       "        text-align: right;\n",
       "    }\n",
       "</style>\n",
       "<table border=\"1\" class=\"dataframe\">\n",
       "  <thead>\n",
       "    <tr style=\"text-align: right;\">\n",
       "      <th></th>\n",
       "      <th>STATION_NAME</th>\n",
       "      <th>STN_ID</th>\n",
       "      <th>LAT</th>\n",
       "      <th>LON</th>\n",
       "      <th>January</th>\n",
       "      <th>February</th>\n",
       "      <th>March</th>\n",
       "      <th>April</th>\n",
       "      <th>May</th>\n",
       "      <th>June</th>\n",
       "      <th>July</th>\n",
       "      <th>August</th>\n",
       "      <th>September</th>\n",
       "      <th>October</th>\n",
       "      <th>November</th>\n",
       "      <th>December</th>\n",
       "      <th>Range</th>\n",
       "    </tr>\n",
       "  </thead>\n",
       "  <tbody>\n",
       "    <tr>\n",
       "      <th>661</th>\n",
       "      <td>WAGGA-WAGGA-AMO</td>\n",
       "      <td>72150</td>\n",
       "      <td>-35.16</td>\n",
       "      <td>147.46</td>\n",
       "      <td>36.55</td>\n",
       "      <td>35.31</td>\n",
       "      <td>32.61</td>\n",
       "      <td>27.15</td>\n",
       "      <td>21.43</td>\n",
       "      <td>16.45</td>\n",
       "      <td>15.48</td>\n",
       "      <td>17.61</td>\n",
       "      <td>21.66</td>\n",
       "      <td>26.02</td>\n",
       "      <td>30.36</td>\n",
       "      <td>34.66</td>\n",
       "      <td>21.07</td>\n",
       "    </tr>\n",
       "  </tbody>\n",
       "</table>\n",
       "</div>"
      ],
      "text/plain": [
       "        STATION_NAME  STN_ID    LAT     LON  January  February  March  April  \\\n",
       "661  WAGGA-WAGGA-AMO   72150 -35.16  147.46    36.55     35.31  32.61  27.15   \n",
       "\n",
       "       May   June   July  August  September  October  November  December  \\\n",
       "661  21.43  16.45  15.48   17.61      21.66    26.02     30.36     34.66   \n",
       "\n",
       "     Range  \n",
       "661  21.07  "
      ]
     },
     "execution_count": 15,
     "metadata": {},
     "output_type": "execute_result"
    }
   ],
   "source": [
    "range_dataset[range_dataset['Range']== range_dataset['Range'].max()]   # finds the max range value from Range column"
   ]
  },
  {
   "cell_type": "code",
   "execution_count": 16,
   "id": "c3c93924-ed6d-4f51-b79a-391889abddbe",
   "metadata": {},
   "outputs": [
    {
     "data": {
      "text/plain": [
       "Index(['January', 'February', 'March', 'April', 'May', 'June', 'July',\n",
       "       'August', 'September', 'October', 'November', 'December'],\n",
       "      dtype='object')"
      ]
     },
     "execution_count": 16,
     "metadata": {},
     "output_type": "execute_result"
    }
   ],
   "source": [
    "months = range_dataset.iloc[:, 4:-1].columns\n",
    "months"
   ]
  },
  {
   "cell_type": "code",
   "execution_count": 17,
   "id": "1a9c4874-b5ce-4b4a-b45a-1609c210fb91",
   "metadata": {},
   "outputs": [],
   "source": [
    "station_name = range_dataset.iloc[661]['STATION_NAME']   # acccess the 'STATION_NAME' from 661 row\n",
    "range_value = range_dataset.iloc[661]['Range']\n",
    "max_temp = range_dataset.iloc[661][months].max()\n",
    "min_temp = range_dataset.iloc[661][months].min()"
   ]
  },
  {
   "cell_type": "code",
   "execution_count": 18,
   "id": "277ba453-aed3-4636-b8d5-b84e67620cdb",
   "metadata": {},
   "outputs": [
    {
     "name": "stdout",
     "output_type": "stream",
     "text": [
      "Station WAGGA-WAGGA-AMO: Range 21.1°C (Max: 36.6°C, Min: 15.5°C)\n"
     ]
    }
   ],
   "source": [
    "largest_temp_range_station = f\"Station {station_name}: Range {round(range_value,1)}°C (Max: {round(max_temp,1)}°C, Min: {round(min_temp,1)}°C)\"   # rounds returns the value upto 1 decimal point\n",
    "print(largest_temp_range_station)"
   ]
  },
  {
   "cell_type": "code",
   "execution_count": 19,
   "id": "f16f298c-0a4e-4481-b68c-929a33104ed6",
   "metadata": {},
   "outputs": [],
   "source": [
    "with open('/Users/karanthapa/Desktop/largest_temp_range_station.txt', 'w') as f:    # open / create a text file in write mode\n",
    "    f.write(largest_temp_range_station)   # writes the string in 'largest_temp_range_station' into the file"
   ]
  },
  {
   "cell_type": "code",
   "execution_count": null,
   "id": "075a271d-7060-49bb-88d4-66d418e83423",
   "metadata": {},
   "outputs": [],
   "source": []
  },
  {
   "cell_type": "code",
   "execution_count": 20,
   "id": "a8aed24e-f45c-4989-8b71-0f0888025b34",
   "metadata": {},
   "outputs": [],
   "source": [
    "#Temperature Stability"
   ]
  },
  {
   "cell_type": "code",
   "execution_count": 21,
   "id": "00ec2000-cad3-4a4a-96c9-23b0b486fe4e",
   "metadata": {},
   "outputs": [
    {
     "data": {
      "text/html": [
       "<div>\n",
       "<style scoped>\n",
       "    .dataframe tbody tr th:only-of-type {\n",
       "        vertical-align: middle;\n",
       "    }\n",
       "\n",
       "    .dataframe tbody tr th {\n",
       "        vertical-align: top;\n",
       "    }\n",
       "\n",
       "    .dataframe thead th {\n",
       "        text-align: right;\n",
       "    }\n",
       "</style>\n",
       "<table border=\"1\" class=\"dataframe\">\n",
       "  <thead>\n",
       "    <tr style=\"text-align: right;\">\n",
       "      <th></th>\n",
       "      <th>STATION_NAME</th>\n",
       "      <th>STN_ID</th>\n",
       "      <th>LAT</th>\n",
       "      <th>LON</th>\n",
       "      <th>January</th>\n",
       "      <th>February</th>\n",
       "      <th>March</th>\n",
       "      <th>April</th>\n",
       "      <th>May</th>\n",
       "      <th>June</th>\n",
       "      <th>July</th>\n",
       "      <th>August</th>\n",
       "      <th>September</th>\n",
       "      <th>October</th>\n",
       "      <th>November</th>\n",
       "      <th>December</th>\n",
       "      <th>Standard_Deviation</th>\n",
       "    </tr>\n",
       "  </thead>\n",
       "  <tbody>\n",
       "    <tr>\n",
       "      <th>0</th>\n",
       "      <td>ADELAIDE-KENT-TOWN</td>\n",
       "      <td>23090</td>\n",
       "      <td>-34.92</td>\n",
       "      <td>138.62</td>\n",
       "      <td>30.04</td>\n",
       "      <td>29.68</td>\n",
       "      <td>26.92</td>\n",
       "      <td>24.07</td>\n",
       "      <td>19.83</td>\n",
       "      <td>16.63</td>\n",
       "      <td>16.20</td>\n",
       "      <td>17.31</td>\n",
       "      <td>20.01</td>\n",
       "      <td>22.73</td>\n",
       "      <td>25.54</td>\n",
       "      <td>27.97</td>\n",
       "      <td>5.045526</td>\n",
       "    </tr>\n",
       "    <tr>\n",
       "      <th>1</th>\n",
       "      <td>ALBANY-AIRPORT-COMPARISON</td>\n",
       "      <td>9741</td>\n",
       "      <td>-34.94</td>\n",
       "      <td>117.80</td>\n",
       "      <td>25.55</td>\n",
       "      <td>26.91</td>\n",
       "      <td>26.09</td>\n",
       "      <td>24.41</td>\n",
       "      <td>20.68</td>\n",
       "      <td>18.74</td>\n",
       "      <td>17.22</td>\n",
       "      <td>17.82</td>\n",
       "      <td>19.45</td>\n",
       "      <td>20.41</td>\n",
       "      <td>22.36</td>\n",
       "      <td>24.48</td>\n",
       "      <td>3.401163</td>\n",
       "    </tr>\n",
       "    <tr>\n",
       "      <th>2</th>\n",
       "      <td>ALICE-SPRINGS-AIRPORT</td>\n",
       "      <td>15590</td>\n",
       "      <td>-23.80</td>\n",
       "      <td>133.89</td>\n",
       "      <td>39.04</td>\n",
       "      <td>38.58</td>\n",
       "      <td>35.31</td>\n",
       "      <td>30.35</td>\n",
       "      <td>25.28</td>\n",
       "      <td>21.89</td>\n",
       "      <td>21.45</td>\n",
       "      <td>25.95</td>\n",
       "      <td>32.31</td>\n",
       "      <td>34.02</td>\n",
       "      <td>36.62</td>\n",
       "      <td>38.15</td>\n",
       "      <td>6.487963</td>\n",
       "    </tr>\n",
       "    <tr>\n",
       "      <th>3</th>\n",
       "      <td>AMBERLEY-AMO</td>\n",
       "      <td>40004</td>\n",
       "      <td>-27.63</td>\n",
       "      <td>152.71</td>\n",
       "      <td>33.02</td>\n",
       "      <td>32.16</td>\n",
       "      <td>30.93</td>\n",
       "      <td>28.58</td>\n",
       "      <td>25.72</td>\n",
       "      <td>23.15</td>\n",
       "      <td>23.36</td>\n",
       "      <td>24.21</td>\n",
       "      <td>28.36</td>\n",
       "      <td>30.11</td>\n",
       "      <td>31.05</td>\n",
       "      <td>32.01</td>\n",
       "      <td>3.596841</td>\n",
       "    </tr>\n",
       "    <tr>\n",
       "      <th>4</th>\n",
       "      <td>BARCALDINE-POST-OFFICE</td>\n",
       "      <td>36007</td>\n",
       "      <td>-23.55</td>\n",
       "      <td>145.29</td>\n",
       "      <td>38.00</td>\n",
       "      <td>37.34</td>\n",
       "      <td>36.28</td>\n",
       "      <td>32.77</td>\n",
       "      <td>29.16</td>\n",
       "      <td>26.36</td>\n",
       "      <td>26.03</td>\n",
       "      <td>27.18</td>\n",
       "      <td>30.87</td>\n",
       "      <td>34.11</td>\n",
       "      <td>35.83</td>\n",
       "      <td>37.92</td>\n",
       "      <td>4.597277</td>\n",
       "    </tr>\n",
       "    <tr>\n",
       "      <th>...</th>\n",
       "      <td>...</td>\n",
       "      <td>...</td>\n",
       "      <td>...</td>\n",
       "      <td>...</td>\n",
       "      <td>...</td>\n",
       "      <td>...</td>\n",
       "      <td>...</td>\n",
       "      <td>...</td>\n",
       "      <td>...</td>\n",
       "      <td>...</td>\n",
       "      <td>...</td>\n",
       "      <td>...</td>\n",
       "      <td>...</td>\n",
       "      <td>...</td>\n",
       "      <td>...</td>\n",
       "      <td>...</td>\n",
       "      <td>...</td>\n",
       "    </tr>\n",
       "    <tr>\n",
       "      <th>2235</th>\n",
       "      <td>WILSONS-PROMONTORY-LIGHTHOUSE</td>\n",
       "      <td>85096</td>\n",
       "      <td>-39.13</td>\n",
       "      <td>146.42</td>\n",
       "      <td>22.18</td>\n",
       "      <td>22.46</td>\n",
       "      <td>20.36</td>\n",
       "      <td>18.60</td>\n",
       "      <td>16.31</td>\n",
       "      <td>14.50</td>\n",
       "      <td>13.62</td>\n",
       "      <td>13.74</td>\n",
       "      <td>15.43</td>\n",
       "      <td>16.98</td>\n",
       "      <td>18.52</td>\n",
       "      <td>19.53</td>\n",
       "      <td>3.086685</td>\n",
       "    </tr>\n",
       "    <tr>\n",
       "      <th>2236</th>\n",
       "      <td>WITTENOOM</td>\n",
       "      <td>5026</td>\n",
       "      <td>-22.24</td>\n",
       "      <td>118.34</td>\n",
       "      <td>40.62</td>\n",
       "      <td>38.80</td>\n",
       "      <td>37.92</td>\n",
       "      <td>34.67</td>\n",
       "      <td>29.55</td>\n",
       "      <td>25.81</td>\n",
       "      <td>25.35</td>\n",
       "      <td>28.10</td>\n",
       "      <td>32.66</td>\n",
       "      <td>37.11</td>\n",
       "      <td>39.72</td>\n",
       "      <td>40.41</td>\n",
       "      <td>5.751272</td>\n",
       "    </tr>\n",
       "    <tr>\n",
       "      <th>2237</th>\n",
       "      <td>WOOMERA-AERODROME</td>\n",
       "      <td>16001</td>\n",
       "      <td>-31.16</td>\n",
       "      <td>136.81</td>\n",
       "      <td>38.97</td>\n",
       "      <td>38.38</td>\n",
       "      <td>35.41</td>\n",
       "      <td>30.56</td>\n",
       "      <td>25.61</td>\n",
       "      <td>20.93</td>\n",
       "      <td>20.57</td>\n",
       "      <td>22.59</td>\n",
       "      <td>27.18</td>\n",
       "      <td>30.38</td>\n",
       "      <td>35.16</td>\n",
       "      <td>37.36</td>\n",
       "      <td>6.833927</td>\n",
       "    </tr>\n",
       "    <tr>\n",
       "      <th>2238</th>\n",
       "      <td>WYALONG-POST-OFFICE</td>\n",
       "      <td>73054</td>\n",
       "      <td>-33.93</td>\n",
       "      <td>147.24</td>\n",
       "      <td>36.34</td>\n",
       "      <td>34.23</td>\n",
       "      <td>31.20</td>\n",
       "      <td>27.04</td>\n",
       "      <td>21.44</td>\n",
       "      <td>16.50</td>\n",
       "      <td>15.68</td>\n",
       "      <td>17.48</td>\n",
       "      <td>21.65</td>\n",
       "      <td>26.15</td>\n",
       "      <td>31.63</td>\n",
       "      <td>34.10</td>\n",
       "      <td>7.440586</td>\n",
       "    </tr>\n",
       "    <tr>\n",
       "      <th>2239</th>\n",
       "      <td>YAMBA-PILOT-STATION</td>\n",
       "      <td>58012</td>\n",
       "      <td>-29.43</td>\n",
       "      <td>153.36</td>\n",
       "      <td>28.20</td>\n",
       "      <td>28.34</td>\n",
       "      <td>27.59</td>\n",
       "      <td>26.25</td>\n",
       "      <td>23.66</td>\n",
       "      <td>21.83</td>\n",
       "      <td>20.97</td>\n",
       "      <td>22.12</td>\n",
       "      <td>23.80</td>\n",
       "      <td>25.11</td>\n",
       "      <td>26.15</td>\n",
       "      <td>27.19</td>\n",
       "      <td>2.584828</td>\n",
       "    </tr>\n",
       "  </tbody>\n",
       "</table>\n",
       "<p>2240 rows × 17 columns</p>\n",
       "</div>"
      ],
      "text/plain": [
       "                       STATION_NAME  STN_ID    LAT     LON  January  February  \\\n",
       "0                ADELAIDE-KENT-TOWN   23090 -34.92  138.62    30.04     29.68   \n",
       "1         ALBANY-AIRPORT-COMPARISON    9741 -34.94  117.80    25.55     26.91   \n",
       "2             ALICE-SPRINGS-AIRPORT   15590 -23.80  133.89    39.04     38.58   \n",
       "3                      AMBERLEY-AMO   40004 -27.63  152.71    33.02     32.16   \n",
       "4            BARCALDINE-POST-OFFICE   36007 -23.55  145.29    38.00     37.34   \n",
       "...                             ...     ...    ...     ...      ...       ...   \n",
       "2235  WILSONS-PROMONTORY-LIGHTHOUSE   85096 -39.13  146.42    22.18     22.46   \n",
       "2236                      WITTENOOM    5026 -22.24  118.34    40.62     38.80   \n",
       "2237              WOOMERA-AERODROME   16001 -31.16  136.81    38.97     38.38   \n",
       "2238            WYALONG-POST-OFFICE   73054 -33.93  147.24    36.34     34.23   \n",
       "2239            YAMBA-PILOT-STATION   58012 -29.43  153.36    28.20     28.34   \n",
       "\n",
       "      March  April    May   June   July  August  September  October  November  \\\n",
       "0     26.92  24.07  19.83  16.63  16.20   17.31      20.01    22.73     25.54   \n",
       "1     26.09  24.41  20.68  18.74  17.22   17.82      19.45    20.41     22.36   \n",
       "2     35.31  30.35  25.28  21.89  21.45   25.95      32.31    34.02     36.62   \n",
       "3     30.93  28.58  25.72  23.15  23.36   24.21      28.36    30.11     31.05   \n",
       "4     36.28  32.77  29.16  26.36  26.03   27.18      30.87    34.11     35.83   \n",
       "...     ...    ...    ...    ...    ...     ...        ...      ...       ...   \n",
       "2235  20.36  18.60  16.31  14.50  13.62   13.74      15.43    16.98     18.52   \n",
       "2236  37.92  34.67  29.55  25.81  25.35   28.10      32.66    37.11     39.72   \n",
       "2237  35.41  30.56  25.61  20.93  20.57   22.59      27.18    30.38     35.16   \n",
       "2238  31.20  27.04  21.44  16.50  15.68   17.48      21.65    26.15     31.63   \n",
       "2239  27.59  26.25  23.66  21.83  20.97   22.12      23.80    25.11     26.15   \n",
       "\n",
       "      December  Standard_Deviation  \n",
       "0        27.97            5.045526  \n",
       "1        24.48            3.401163  \n",
       "2        38.15            6.487963  \n",
       "3        32.01            3.596841  \n",
       "4        37.92            4.597277  \n",
       "...        ...                 ...  \n",
       "2235     19.53            3.086685  \n",
       "2236     40.41            5.751272  \n",
       "2237     37.36            6.833927  \n",
       "2238     34.10            7.440586  \n",
       "2239     27.19            2.584828  \n",
       "\n",
       "[2240 rows x 17 columns]"
      ]
     },
     "execution_count": 21,
     "metadata": {},
     "output_type": "execute_result"
    }
   ],
   "source": [
    "std_dataset['Standard_Deviation'] = std_dataset.iloc[:, 4:].std(axis=1) \n",
    "std_dataset"
   ]
  },
  {
   "cell_type": "code",
   "execution_count": 22,
   "id": "bc424e70-652b-418d-94de-102a21878846",
   "metadata": {},
   "outputs": [
    {
     "data": {
      "text/html": [
       "<div>\n",
       "<style scoped>\n",
       "    .dataframe tbody tr th:only-of-type {\n",
       "        vertical-align: middle;\n",
       "    }\n",
       "\n",
       "    .dataframe tbody tr th {\n",
       "        vertical-align: top;\n",
       "    }\n",
       "\n",
       "    .dataframe thead th {\n",
       "        text-align: right;\n",
       "    }\n",
       "</style>\n",
       "<table border=\"1\" class=\"dataframe\">\n",
       "  <thead>\n",
       "    <tr style=\"text-align: right;\">\n",
       "      <th></th>\n",
       "      <th>STATION_NAME</th>\n",
       "      <th>STN_ID</th>\n",
       "      <th>LAT</th>\n",
       "      <th>LON</th>\n",
       "      <th>January</th>\n",
       "      <th>February</th>\n",
       "      <th>March</th>\n",
       "      <th>April</th>\n",
       "      <th>May</th>\n",
       "      <th>June</th>\n",
       "      <th>July</th>\n",
       "      <th>August</th>\n",
       "      <th>September</th>\n",
       "      <th>October</th>\n",
       "      <th>November</th>\n",
       "      <th>December</th>\n",
       "      <th>Standard_Deviation</th>\n",
       "    </tr>\n",
       "  </thead>\n",
       "  <tbody>\n",
       "    <tr>\n",
       "      <th>661</th>\n",
       "      <td>WAGGA-WAGGA-AMO</td>\n",
       "      <td>72150</td>\n",
       "      <td>-35.16</td>\n",
       "      <td>147.46</td>\n",
       "      <td>36.55</td>\n",
       "      <td>35.31</td>\n",
       "      <td>32.61</td>\n",
       "      <td>27.15</td>\n",
       "      <td>21.43</td>\n",
       "      <td>16.45</td>\n",
       "      <td>15.48</td>\n",
       "      <td>17.61</td>\n",
       "      <td>21.66</td>\n",
       "      <td>26.02</td>\n",
       "      <td>30.36</td>\n",
       "      <td>34.66</td>\n",
       "      <td>7.675713</td>\n",
       "    </tr>\n",
       "  </tbody>\n",
       "</table>\n",
       "</div>"
      ],
      "text/plain": [
       "        STATION_NAME  STN_ID    LAT     LON  January  February  March  April  \\\n",
       "661  WAGGA-WAGGA-AMO   72150 -35.16  147.46    36.55     35.31  32.61  27.15   \n",
       "\n",
       "       May   June   July  August  September  October  November  December  \\\n",
       "661  21.43  16.45  15.48   17.61      21.66    26.02     30.36     34.66   \n",
       "\n",
       "     Standard_Deviation  \n",
       "661            7.675713  "
      ]
     },
     "execution_count": 22,
     "metadata": {},
     "output_type": "execute_result"
    }
   ],
   "source": [
    "std_dataset[std_dataset['Standard_Deviation'] == std_dataset['Standard_Deviation'].max()]"
   ]
  },
  {
   "cell_type": "code",
   "execution_count": 23,
   "id": "f54a3b8e-af50-4c46-8c0f-9a6a36604849",
   "metadata": {},
   "outputs": [
    {
     "name": "stdout",
     "output_type": "stream",
     "text": [
      "Most Variable: WAGGA-WAGGA-AMO: StdDev 7.7°C\n"
     ]
    }
   ],
   "source": [
    "vstation_name = std_dataset.iloc[661]['STATION_NAME']\n",
    "vstd = std_dataset.iloc[661]['Standard_Deviation']\n",
    "most_variable = f\"Most Variable: {vstation_name}: StdDev {round(vstd,1)}°C\"\n",
    "print(most_variable)"
   ]
  },
  {
   "cell_type": "code",
   "execution_count": 24,
   "id": "a38bf553-5af0-4bbd-895f-1bb24bdd1984",
   "metadata": {},
   "outputs": [
    {
     "data": {
      "text/html": [
       "<div>\n",
       "<style scoped>\n",
       "    .dataframe tbody tr th:only-of-type {\n",
       "        vertical-align: middle;\n",
       "    }\n",
       "\n",
       "    .dataframe tbody tr th {\n",
       "        vertical-align: top;\n",
       "    }\n",
       "\n",
       "    .dataframe thead th {\n",
       "        text-align: right;\n",
       "    }\n",
       "</style>\n",
       "<table border=\"1\" class=\"dataframe\">\n",
       "  <thead>\n",
       "    <tr style=\"text-align: right;\">\n",
       "      <th></th>\n",
       "      <th>STATION_NAME</th>\n",
       "      <th>STN_ID</th>\n",
       "      <th>LAT</th>\n",
       "      <th>LON</th>\n",
       "      <th>January</th>\n",
       "      <th>February</th>\n",
       "      <th>March</th>\n",
       "      <th>April</th>\n",
       "      <th>May</th>\n",
       "      <th>June</th>\n",
       "      <th>July</th>\n",
       "      <th>August</th>\n",
       "      <th>September</th>\n",
       "      <th>October</th>\n",
       "      <th>November</th>\n",
       "      <th>December</th>\n",
       "      <th>Standard_Deviation</th>\n",
       "    </tr>\n",
       "  </thead>\n",
       "  <tbody>\n",
       "    <tr>\n",
       "      <th>2160</th>\n",
       "      <td>DARWIN-AIRPORT</td>\n",
       "      <td>14015</td>\n",
       "      <td>-12.42</td>\n",
       "      <td>130.89</td>\n",
       "      <td>34.33</td>\n",
       "      <td>34.09</td>\n",
       "      <td>34.42</td>\n",
       "      <td>35.67</td>\n",
       "      <td>35.46</td>\n",
       "      <td>34.27</td>\n",
       "      <td>34.33</td>\n",
       "      <td>34.79</td>\n",
       "      <td>35.57</td>\n",
       "      <td>36.03</td>\n",
       "      <td>35.91</td>\n",
       "      <td>35.19</td>\n",
       "      <td>0.710282</td>\n",
       "    </tr>\n",
       "  </tbody>\n",
       "</table>\n",
       "</div>"
      ],
      "text/plain": [
       "        STATION_NAME  STN_ID    LAT     LON  January  February  March  April  \\\n",
       "2160  DARWIN-AIRPORT   14015 -12.42  130.89    34.33     34.09  34.42  35.67   \n",
       "\n",
       "        May   June   July  August  September  October  November  December  \\\n",
       "2160  35.46  34.27  34.33   34.79      35.57    36.03     35.91     35.19   \n",
       "\n",
       "      Standard_Deviation  \n",
       "2160            0.710282  "
      ]
     },
     "execution_count": 24,
     "metadata": {},
     "output_type": "execute_result"
    }
   ],
   "source": [
    "std_dataset[std_dataset['Standard_Deviation'] == std_dataset['Standard_Deviation'].min()]"
   ]
  },
  {
   "cell_type": "code",
   "execution_count": 25,
   "id": "4386d49d-902b-4ad3-b0d1-8f0664c1f0c6",
   "metadata": {},
   "outputs": [
    {
     "name": "stdout",
     "output_type": "stream",
     "text": [
      "Most Stable: DARWIN-AIRPORT: StdDev 0.7°C\n"
     ]
    }
   ],
   "source": [
    "sstation_name = std_dataset.iloc[2160]['STATION_NAME']\n",
    "sstd = std_dataset.iloc[2160]['Standard_Deviation']\n",
    "most_stable = f\"Most Stable: {sstation_name}: StdDev {round(sstd,1)}°C\"\n",
    "print(most_stable)"
   ]
  },
  {
   "cell_type": "code",
   "execution_count": 26,
   "id": "ed350733-8fc5-4bad-8b5a-dbe3b73df80e",
   "metadata": {},
   "outputs": [],
   "source": [
    "with open('/Users/karanthapa/Desktop/temperature_stability_stations.txt', 'w') as f:     \n",
    "    f.write(f\"{most_stable}\\n{most_variable}\")"
   ]
  }
 ],
 "metadata": {
  "kernelspec": {
   "display_name": "Python [conda env:base] *",
   "language": "python",
   "name": "conda-base-py"
  },
  "language_info": {
   "codemirror_mode": {
    "name": "ipython",
    "version": 3
   },
   "file_extension": ".py",
   "mimetype": "text/x-python",
   "name": "python",
   "nbconvert_exporter": "python",
   "pygments_lexer": "ipython3",
   "version": "3.13.5"
  }
 },
 "nbformat": 4,
 "nbformat_minor": 5
}
